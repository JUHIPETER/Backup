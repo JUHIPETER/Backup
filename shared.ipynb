{
 "cells": [
  {
   "cell_type": "code",
   "execution_count": null,
   "id": "c24ed264",
   "metadata": {},
   "outputs": [],
   "source": [
    "from flask import jsonify\n",
    "from flask import request\n",
    "from flask_api import FlaskAPI\n",
    "from flask_restful import Api \n",
    "from sqlalchemy import create_engine\n",
    "import json"
   ]
  },
  {
   "cell_type": "code",
   "execution_count": null,
   "id": "e9299319",
   "metadata": {},
   "outputs": [],
   "source": [
    "app = FlaskAPI(__name__)\n",
    " \n",
    "api = Api(app)\n",
    "e = create_engine('sqlite:///test_db.db')\n",
    "\n",
    "\n",
    "@app.route('/create_table', methods=['GET']) #need to pass the table name Eg: /create_table?tbl=tbl_name\n",
    "def create_table():\n",
    "    try:\n",
    "        tbl = request.args.get('tbl')\n",
    "        conn = e.connect()\n",
    "        conn.execute('CREATE TABLE IF NOT EXISTS {} (SNO INTEGER PRIMARY KEY AUTOINCREMENT,URL TEXT,NAME TEXT,ROLE TEXT,ADDRESS TEXT,COUNTRY TEXT,MOBILE TEXT,TELEPHONE TEXT,FAX TEXT,EMAIL TEXT);'.format(tbl))\n",
    "        text = {\"Message \" : \"Table created successfully\"}\n",
    "        return text\n",
    "    except Exception as error:\n",
    "        text = {\"Message \" : \"Table creation failed : {}\".format(error)}\n",
    "        return text\n",
    "    finally:\n",
    "        conn.close()\n",
    "#insert route"
   ]
  },
  {
   "cell_type": "code",
   "execution_count": null,
   "id": "f0925a7b",
   "metadata": {},
   "outputs": [],
   "source": [
    "\n",
    "conn = e.connect()\n",
    "df.to_sql(\"df_table\", conn, if_exists='fail')"
   ]
  }
 ],
 "metadata": {
  "kernelspec": {
   "display_name": "Python 3 (ipykernel)",
   "language": "python",
   "name": "python3"
  },
  "language_info": {
   "codemirror_mode": {
    "name": "ipython",
    "version": 3
   },
   "file_extension": ".py",
   "mimetype": "text/x-python",
   "name": "python",
   "nbconvert_exporter": "python",
   "pygments_lexer": "ipython3",
   "version": "3.9.6"
  }
 },
 "nbformat": 4,
 "nbformat_minor": 5
}
