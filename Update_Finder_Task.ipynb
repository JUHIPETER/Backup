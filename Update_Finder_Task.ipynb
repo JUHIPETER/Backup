{
 "cells": [
  {
   "cell_type": "code",
   "execution_count": null,
   "id": "e2826353",
   "metadata": {},
   "outputs": [],
   "source": [
    "%%time\n",
    "import pandas as pd\n",
    "import os\n",
    "os.getcwd()\n",
    "os.chdir(r\"C:\\\\Users\\\\Merit\\\\Desktop\\\\Project\\\\Task_KT\")\n",
    "NameData=pd.read_excel(\"1014.xlsx\")\n",
    "#Storing in DataFrame\n",
    "DF_Name= pd.DataFrame(NameData)\n",
    "# pd.set_option('display.max_columns',None)\n",
    "# pd.set_option('display.max_rows',None)\n",
    "# DF_Name\n",
    "lst=[]\n",
    "for i in DF_Name.index:\n",
    "    lst.append(DF_Name['Drug_Name_Raw'][i])    \n",
    "st=set(lst)\n",
    "# st\n",
    "# DF_Name1= pd.DataFrame(st)\n",
    "# DF_Name1\n",
    "\n",
    "for i in st:\n",
    "    flag=1\n",
    "    for j in DF_Name.index:\n",
    "        if(i==DF_Name['Drug_Name_Raw'][j]):\n",
    "            if(DF_Name[\"Status\"].isnull()[j]):\n",
    "                flag=0\n",
    "        \n",
    "    if(flag):\n",
    "        print(str(i)+\" updated and other row item from \"+str(i)+ \" has correctly marked as updated\")\n",
    "    else:\n",
    "        print(str(i)+\" is updated but other row item from \"+str(i)+ \" has not marked as Updated\")"
   ]
  },
  {
   "cell_type": "code",
   "execution_count": 1,
   "id": "6649f98d",
   "metadata": {},
   "outputs": [
    {
     "data": {
      "text/plain": [
       "'C:\\\\Users\\\\Merit\\\\Desktop\\\\Project\\\\Task_KT'"
      ]
     },
     "execution_count": 1,
     "metadata": {},
     "output_type": "execute_result"
    }
   ],
   "source": [
    "import pandas as pd\n",
    "import os\n",
    "os.getcwd()\n",
    "# os.chdir(r\"C:\\\\Users\\\\Merit\\\\Desktop\\\\Project\\\\Task_KT\")"
   ]
  },
  {
   "cell_type": "code",
   "execution_count": null,
   "id": "31a42253",
   "metadata": {},
   "outputs": [],
   "source": []
  }
 ],
 "metadata": {
  "kernelspec": {
   "display_name": "Python 3 (ipykernel)",
   "language": "python",
   "name": "python3"
  },
  "language_info": {
   "codemirror_mode": {
    "name": "ipython",
    "version": 3
   },
   "file_extension": ".py",
   "mimetype": "text/x-python",
   "name": "python",
   "nbconvert_exporter": "python",
   "pygments_lexer": "ipython3",
   "version": "3.9.6"
  }
 },
 "nbformat": 4,
 "nbformat_minor": 5
}
